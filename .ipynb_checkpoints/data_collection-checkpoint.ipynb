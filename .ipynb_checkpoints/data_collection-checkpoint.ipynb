{
 "cells": [
  {
   "cell_type": "code",
   "execution_count": 1,
   "metadata": {
    "ExecuteTime": {
     "end_time": "2024-05-16T15:42:40.048269Z",
     "start_time": "2024-05-16T15:42:39.713064Z"
    }
   },
   "outputs": [],
   "source": [
    "import random\n",
    "import json\n",
    "import numpy as np\n",
    "import pandas as pd\n",
    "import os\n",
    "from csv import writer\n",
    "from tqdm import tqdm\n",
    "\n",
    "OUR_TARGET = [\"women\", \"jews\", \"asian\", \"black\", \"lgbtq\", \"latino\", \"muslim\", \"indigenous\", \"arab\", \"others\",\"disabilities\"]\n",
    "THEIR_TARGET = ['none', 'african', 'asian', 'caucasian', 'women', 'jewish', 'islam', 'hispanic', 'indigenous', 'men', 'christian', 'heterosexual', 'hindu', 'buddhism']"
   ]
  },
  {
   "cell_type": "code",
   "execution_count": 2,
   "metadata": {
    "ExecuteTime": {
     "end_time": "2024-05-16T15:42:40.051179Z",
     "start_time": "2024-05-16T15:42:40.050644Z"
    }
   },
   "outputs": [],
   "source": [
    "DIC_TARGET = {\n",
    "    'none':                 'others',\n",
    "    'african':              'black',\n",
    "    'asian':                'asian',\n",
    "    'caucasian':            'others',\n",
    "    'women':                'women',\n",
    "    'jewish':               'jews',\n",
    "    'islam':                'muslim',\n",
    "    'hispanic':             'latino',\n",
    "    'indigenous':           'indigenous',\n",
    "    'men':                  'others',\n",
    "    'christian':            'others',\n",
    "    'heterosexual':         'others',\n",
    "    'hindu':                'others',\n",
    "    'buddhism':             'others',\n",
    "    'bisexual':             'lgbt',\n",
    "    'chinese':              'asian',\n",
    "    'black':                'black',\n",
    "    'immigrant':            'other',\n",
    "    'lgbt':                 'lgbt',\n",
    "    'mental_disability':    'other',\n",
    "    'mexican':              'other',\n",
    "    'middle_east':          'arab',\n",
    "    'muslim':               'muslim',\n",
    "    'native_american':      'indigenous',\n",
    "    'physical_disability':  'other',\n",
    "    'trans':                'lgbt'\n",
    "    }"
   ]
  },
  {
   "cell_type": "code",
   "execution_count": 3,
   "metadata": {
    "ExecuteTime": {
     "end_time": "2024-05-16T15:42:40.054347Z",
     "start_time": "2024-05-16T15:42:40.051057Z"
    }
   },
   "outputs": [],
   "source": [
    "X = {0: 'none',\n",
    " 1: 'african',\n",
    " 2: 'asian',\n",
    " 3: 'caucasian',\n",
    " \"women\" : 'women',\n",
    " \"jews\" : 'jewish',\n",
    " 6: 'islam',\n",
    " 7: 'hispanic',\n",
    " 8: 'indigenous',\n",
    " 9: 'men',\n",
    " 10: 'christian',\n",
    " 11: 'heterosexual',\n",
    " 12: 'hindu',\n",
    " 13: 'buddhism'}\n"
   ]
  },
  {
   "cell_type": "code",
   "execution_count": 4,
   "metadata": {
    "ExecuteTime": {
     "end_time": "2024-05-16T15:42:40.056852Z",
     "start_time": "2024-05-16T15:42:40.053046Z"
    }
   },
   "outputs": [],
   "source": [
    "DIC_TARGET = {\n",
    "    'none': 0,\n",
    "    'african': 0,\n",
    "    'asian': 0,\n",
    "    'caucasian': 0,\n",
    "    'women': 0,\n",
    "    'jewish': 0,\n",
    "    'islam': 0,\n",
    "    'hispanic': 0,\n",
    "    'indigenous': 0,\n",
    "    'men': 0,\n",
    "    'christian': 0,\n",
    "    'heterosexual': 0,\n",
    "    'hindu': 0,\n",
    "    'buddhism': 0\n",
    "    }"
   ]
  },
  {
   "cell_type": "code",
   "execution_count": 56,
   "metadata": {},
   "outputs": [],
   "source": [
    "def create_files(list_target):\n",
    "    \"\"\"For each target and tone, creates an empty file if not already existing or only open it\"\"\"\n",
    "    for target in list_target:\n",
    "        for tone in [0, 1]:\n",
    "            with open(f'Data/{tone}_{target}.csv', 'w') as _:\n",
    "                pass\n",
    "            \n",
    "create_files(OUR_TARGET)"
   ]
  },
  {
   "cell_type": "code",
   "execution_count": 53,
   "metadata": {},
   "outputs": [
    {
     "name": "stdout",
     "output_type": "stream",
     "text": [
      "All files from 'Data' deleted successfully.\n"
     ]
    }
   ],
   "source": [
    "def clean_folder():\n",
    "    \"\"\"Clear the folder 'Data'.\"\"\"\n",
    "    with os.scandir(\"Data/\") as entries:\n",
    "        for entry in entries:\n",
    "            if entry.is_file():\n",
    "                os.unlink(entry.path)\n",
    "        print(\"All files from 'Data' deleted successfully.\")\n",
    "\n",
    "clean_folder()"
   ]
  },
  {
   "cell_type": "code",
   "execution_count": 38,
   "metadata": {},
   "outputs": [],
   "source": [
    "def write_entry(tone, target, entry):\n",
    "    with open(f'Data/{tone}_{target}.csv', 'a') as f:\n",
    "        writer_object = writer(f)\n",
    "        writer_object.writerow([entry])\n",
    "        f.close()\n",
    "write_entry(0, \"women\", \"Mama bella stay in the kitchen\")"
   ]
  },
  {
   "cell_type": "code",
   "execution_count": null,
   "metadata": {},
   "outputs": [],
   "source": [
    "def assign_target(tone, target, entry):\n",
    "    if target.lower() == "
   ]
  },
  {
   "cell_type": "code",
   "execution_count": 57,
   "metadata": {},
   "outputs": [
    {
     "name": "stderr",
     "output_type": "stream",
     "text": [
      "  0%|          | 0/21539 [00:00<?, ?it/s]"
     ]
    },
    {
     "name": "stderr",
     "output_type": "stream",
     "text": [
      "100%|██████████| 21539/21539 [00:02<00:00, 8723.18it/s]\n"
     ]
    }
   ],
   "source": [
    "with open(\"dataset_hateXplain.csv\") as f:\n",
    "    lines = f.readlines()[2:]\n",
    "    for line in tqdm(lines):\n",
    "        entry = line.split(\",\")\n",
    "        tone, target, entry = entry[0], entry[1].lower(), entry[2]\n",
    "        write_entry(tone, target, entry)\n"
   ]
  },
  {
   "cell_type": "code",
   "execution_count": null,
   "metadata": {},
   "outputs": [],
   "source": [
    "def data_collection(source=\"dataset_hateXplain.csv\", destination = \"prompts\"):\n",
    "    with open(source) as f:\n",
    "        for line in f:\n",
    "            print(line)"
   ]
  },
  {
   "cell_type": "code",
   "execution_count": 58,
   "metadata": {},
   "outputs": [
    {
     "name": "stderr",
     "output_type": "stream",
     "text": [
      "100%|██████████| 21539/21539 [00:00<00:00, 1292618.60it/s]\n"
     ]
    }
   ],
   "source": [
    "l = []\n",
    "with open(\"dataset_hateXplain.csv\") as f:\n",
    "    lines = f.readlines()[2:]\n",
    "    for line in tqdm(lines):\n",
    "        entry = line.split(\",\")\n",
    "        target = entry[1].lower()\n",
    "        if target not in l:\n",
    "            l.append(target)"
   ]
  },
  {
   "cell_type": "code",
   "execution_count": 59,
   "metadata": {},
   "outputs": [
    {
     "data": {
      "text/plain": [
       "['none',\n",
       " 'african',\n",
       " 'asian',\n",
       " 'caucasian',\n",
       " 'women',\n",
       " 'jewish',\n",
       " 'islam',\n",
       " 'hispanic',\n",
       " 'indigenous',\n",
       " 'men',\n",
       " 'christian',\n",
       " 'heterosexual',\n",
       " 'hindu',\n",
       " 'buddhism']"
      ]
     },
     "execution_count": 59,
     "metadata": {},
     "output_type": "execute_result"
    }
   ],
   "source": [
    "l"
   ]
  }
 ],
 "metadata": {
  "kernelspec": {
   "display_name": "deep",
   "language": "python",
   "name": "python3"
  },
  "language_info": {
   "codemirror_mode": {
    "name": "ipython",
    "version": 3
   },
   "file_extension": ".py",
   "mimetype": "text/x-python",
   "name": "python",
   "nbconvert_exporter": "python",
   "pygments_lexer": "ipython3",
   "version": "3.12.3"
  }
 },
 "nbformat": 4,
 "nbformat_minor": 2
}
