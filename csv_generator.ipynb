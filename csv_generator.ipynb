{
 "cells": [
  {
   "cell_type": "code",
   "execution_count": 1,
   "metadata": {
    "execution": {
     "iopub.execute_input": "2024-05-03T06:57:23.924764Z",
     "iopub.status.busy": "2024-05-03T06:57:23.924229Z",
     "iopub.status.idle": "2024-05-03T06:57:27.214570Z",
     "shell.execute_reply": "2024-05-03T06:57:27.213370Z",
     "shell.execute_reply.started": "2024-05-03T06:57:23.924716Z"
    },
    "tags": []
   },
   "outputs": [],
   "source": [
    "from generator import *\n",
    "import pandas as pd\n",
    "from datasets import load_dataset"
   ]
  },
  {
   "cell_type": "code",
   "execution_count": 14,
   "metadata": {
    "execution": {
     "iopub.execute_input": "2024-05-03T07:00:46.725842Z",
     "iopub.status.busy": "2024-05-03T07:00:46.725124Z",
     "iopub.status.idle": "2024-05-03T07:00:48.305483Z",
     "shell.execute_reply": "2024-05-03T07:00:48.303548Z",
     "shell.execute_reply.started": "2024-05-03T07:00:46.725782Z"
    },
    "tags": []
   },
   "outputs": [
    {
     "name": "stdout",
     "output_type": "stream",
     "text": [
      "Files were created\n"
     ]
    }
   ],
   "source": [
    "add_entries(\"./prompts\", \"dataset/output.csv\")\n",
    "clean_entries(\"dataset/output.csv\")\n",
    "no_tone_csv(\"dataset/output.csv\")\n",
    "target_to_nb(\"dataset/no_tone_output.csv\")\n",
    "print(\"Files were created\")"
   ]
  },
  {
   "cell_type": "code",
   "execution_count": 4,
   "metadata": {
    "execution": {
     "iopub.execute_input": "2024-05-02T20:49:06.086503Z",
     "iopub.status.busy": "2024-05-02T20:49:06.085803Z",
     "iopub.status.idle": "2024-05-02T20:49:06.097274Z",
     "shell.execute_reply": "2024-05-02T20:49:06.094084Z",
     "shell.execute_reply.started": "2024-05-02T20:49:06.086442Z"
    },
    "tags": []
   },
   "outputs": [],
   "source": [
    "# if there are issues \n",
    "#! python generator.py"
   ]
  },
  {
   "cell_type": "code",
   "execution_count": 15,
   "metadata": {
    "execution": {
     "iopub.execute_input": "2024-05-03T07:00:56.144053Z",
     "iopub.status.busy": "2024-05-03T07:00:56.142902Z",
     "iopub.status.idle": "2024-05-03T07:00:56.168286Z",
     "shell.execute_reply": "2024-05-03T07:00:56.166515Z",
     "shell.execute_reply.started": "2024-05-03T07:00:56.144004Z"
    },
    "tags": []
   },
   "outputs": [
    {
     "name": "stdout",
     "output_type": "stream",
     "text": [
      "(668, 2)\n"
     ]
    },
    {
     "data": {
      "text/html": [
       "<div>\n",
       "<style scoped>\n",
       "    .dataframe tbody tr th:only-of-type {\n",
       "        vertical-align: middle;\n",
       "    }\n",
       "\n",
       "    .dataframe tbody tr th {\n",
       "        vertical-align: top;\n",
       "    }\n",
       "\n",
       "    .dataframe thead th {\n",
       "        text-align: right;\n",
       "    }\n",
       "</style>\n",
       "<table border=\"1\" class=\"dataframe\">\n",
       "  <thead>\n",
       "    <tr style=\"text-align: right;\">\n",
       "      <th></th>\n",
       "      <th>target</th>\n",
       "      <th>text</th>\n",
       "    </tr>\n",
       "  </thead>\n",
       "  <tbody>\n",
       "    <tr>\n",
       "      <th>0</th>\n",
       "      <td>0</td>\n",
       "      <td>have you seen how incompetent middle easterner...</td>\n",
       "    </tr>\n",
       "    <tr>\n",
       "      <th>1</th>\n",
       "      <td>0</td>\n",
       "      <td>they have been invaded so many times, they hav...</td>\n",
       "    </tr>\n",
       "    <tr>\n",
       "      <th>2</th>\n",
       "      <td>0</td>\n",
       "      <td>civilization has not reached the middle east yet</td>\n",
       "    </tr>\n",
       "    <tr>\n",
       "      <th>3</th>\n",
       "      <td>0</td>\n",
       "      <td>what the middle east needs is a good invasion</td>\n",
       "    </tr>\n",
       "    <tr>\n",
       "      <th>4</th>\n",
       "      <td>0</td>\n",
       "      <td>the middle easterners are animals, they kill a...</td>\n",
       "    </tr>\n",
       "  </tbody>\n",
       "</table>\n",
       "</div>"
      ],
      "text/plain": [
       "   target                                               text\n",
       "0       0  have you seen how incompetent middle easterner...\n",
       "1       0  they have been invaded so many times, they hav...\n",
       "2       0   civilization has not reached the middle east yet\n",
       "3       0      what the middle east needs is a good invasion\n",
       "4       0  the middle easterners are animals, they kill a..."
      ]
     },
     "execution_count": 15,
     "metadata": {},
     "output_type": "execute_result"
    }
   ],
   "source": [
    "data = pd.read_csv(\"dataset/no_tone_nbtarget_output.csv\")\n",
    "print(data.shape)\n",
    "data.head()"
   ]
  },
  {
   "cell_type": "code",
   "execution_count": 8,
   "metadata": {
    "execution": {
     "iopub.execute_input": "2024-05-03T06:58:45.460150Z",
     "iopub.status.busy": "2024-05-03T06:58:45.459536Z",
     "iopub.status.idle": "2024-05-03T06:58:45.493598Z",
     "shell.execute_reply": "2024-05-03T06:58:45.492443Z",
     "shell.execute_reply.started": "2024-05-03T06:58:45.460084Z"
    },
    "tags": []
   },
   "outputs": [
    {
     "data": {
      "text/plain": [
       "target    0\n",
       "text      0\n",
       "dtype: int64"
      ]
     },
     "execution_count": 8,
     "metadata": {},
     "output_type": "execute_result"
    }
   ],
   "source": [
    "data.isna().sum()"
   ]
  },
  {
   "cell_type": "code",
   "execution_count": 12,
   "metadata": {
    "execution": {
     "iopub.execute_input": "2024-05-03T07:00:11.415928Z",
     "iopub.status.busy": "2024-05-03T07:00:11.415199Z",
     "iopub.status.idle": "2024-05-03T07:00:11.425164Z",
     "shell.execute_reply": "2024-05-03T07:00:11.423130Z",
     "shell.execute_reply.started": "2024-05-03T07:00:11.415873Z"
    },
    "tags": []
   },
   "outputs": [
    {
     "name": "stdout",
     "output_type": "stream",
     "text": [
      "11961\n"
     ]
    }
   ],
   "source": [
    "print(int(round(data.shape[0]/15,0)))"
   ]
  },
  {
   "cell_type": "code",
   "execution_count": 16,
   "metadata": {
    "execution": {
     "iopub.execute_input": "2024-05-03T07:01:02.344292Z",
     "iopub.status.busy": "2024-05-03T07:01:02.343758Z",
     "iopub.status.idle": "2024-05-03T07:01:02.988315Z",
     "shell.execute_reply": "2024-05-03T07:01:02.986895Z",
     "shell.execute_reply.started": "2024-05-03T07:01:02.344250Z"
    },
    "tags": []
   },
   "outputs": [
    {
     "data": {
      "application/vnd.jupyter.widget-view+json": {
       "model_id": "1ee68b104383402ebf2f41c7945abdf2",
       "version_major": 2,
       "version_minor": 0
      },
      "text/plain": [
       "Downloading data files:   0%|          | 0/2 [00:00<?, ?it/s]"
      ]
     },
     "metadata": {},
     "output_type": "display_data"
    },
    {
     "data": {
      "application/vnd.jupyter.widget-view+json": {
       "model_id": "8b04ca6cbdc3455488e753234fd85059",
       "version_major": 2,
       "version_minor": 0
      },
      "text/plain": [
       "Extracting data files:   0%|          | 0/2 [00:00<?, ?it/s]"
      ]
     },
     "metadata": {},
     "output_type": "display_data"
    },
    {
     "data": {
      "application/vnd.jupyter.widget-view+json": {
       "model_id": "35acc15100854a9abaa5c5f2142730d2",
       "version_major": 2,
       "version_minor": 0
      },
      "text/plain": [
       "Generating train split: 0 examples [00:00, ? examples/s]"
      ]
     },
     "metadata": {},
     "output_type": "display_data"
    },
    {
     "data": {
      "application/vnd.jupyter.widget-view+json": {
       "model_id": "37785b44923a46da9cafb922d3305422",
       "version_major": 2,
       "version_minor": 0
      },
      "text/plain": [
       "Generating test split: 0 examples [00:00, ? examples/s]"
      ]
     },
     "metadata": {},
     "output_type": "display_data"
    }
   ],
   "source": [
    "test = data.sample(int(round(data.shape[0]/15,0)))\n",
    "test.to_csv(\"dataset/test.csv\", index=False)\n",
    "\n",
    "data_files = {\"train\": \"no_tone_nbtarget_output.csv\", \"test\": \"test.csv\"}\n",
    "dataset = load_dataset(\"dataset\", data_files=data_files)"
   ]
  },
  {
   "cell_type": "code",
   "execution_count": 26,
   "metadata": {
    "execution": {
     "iopub.execute_input": "2024-05-02T18:17:28.450298Z",
     "iopub.status.busy": "2024-05-02T18:17:28.449590Z",
     "iopub.status.idle": "2024-05-02T18:17:28.460744Z",
     "shell.execute_reply": "2024-05-02T18:17:28.458209Z",
     "shell.execute_reply.started": "2024-05-02T18:17:28.450238Z"
    },
    "tags": []
   },
   "outputs": [
    {
     "name": "stdout",
     "output_type": "stream",
     "text": [
      "DatasetDict({\n",
      "    train: Dataset({\n",
      "        features: ['target', 'text'],\n",
      "        num_rows: 668\n",
      "    })\n",
      "    test: Dataset({\n",
      "        features: ['target', 'text'],\n",
      "        num_rows: 20\n",
      "    })\n",
      "})\n"
     ]
    }
   ],
   "source": [
    "print(dataset)"
   ]
  },
  {
   "cell_type": "code",
   "execution_count": 27,
   "metadata": {
    "execution": {
     "iopub.execute_input": "2024-05-02T18:17:30.338036Z",
     "iopub.status.busy": "2024-05-02T18:17:30.336199Z",
     "iopub.status.idle": "2024-05-02T18:17:31.469695Z",
     "shell.execute_reply": "2024-05-02T18:17:31.467687Z",
     "shell.execute_reply.started": "2024-05-02T18:17:30.337968Z"
    },
    "tags": []
   },
   "outputs": [],
   "source": [
    "from transformers import AutoTokenizer\n",
    "\n",
    "tokenizer  = AutoTokenizer.from_pretrained(\"google/bert_uncased_L-2_H-128_A-2\")"
   ]
  },
  {
   "cell_type": "code",
   "execution_count": 28,
   "metadata": {
    "execution": {
     "iopub.execute_input": "2024-05-02T18:17:31.474979Z",
     "iopub.status.busy": "2024-05-02T18:17:31.474605Z",
     "iopub.status.idle": "2024-05-02T18:17:31.491504Z",
     "shell.execute_reply": "2024-05-02T18:17:31.489559Z",
     "shell.execute_reply.started": "2024-05-02T18:17:31.474944Z"
    },
    "tags": []
   },
   "outputs": [
    {
     "name": "stdout",
     "output_type": "stream",
     "text": [
      "Dataset({\n",
      "    features: ['target', 'text'],\n",
      "    num_rows: 668\n",
      "})\n",
      "have you seen how incompetent middle easterners are? their schools are so much worse than ours!\n"
     ]
    }
   ],
   "source": [
    "print(dataset[\"train\"])\n",
    "print(dataset[\"train\"][0][\"text\"])\n",
    "# print(tokenizer(dataset[\"train\"][0][\"text\"]))"
   ]
  },
  {
   "cell_type": "code",
   "execution_count": 29,
   "metadata": {
    "execution": {
     "iopub.execute_input": "2024-05-02T18:17:31.494085Z",
     "iopub.status.busy": "2024-05-02T18:17:31.493549Z",
     "iopub.status.idle": "2024-05-02T18:17:32.117344Z",
     "shell.execute_reply": "2024-05-02T18:17:32.115906Z",
     "shell.execute_reply.started": "2024-05-02T18:17:31.494035Z"
    },
    "tags": []
   },
   "outputs": [
    {
     "data": {
      "application/vnd.jupyter.widget-view+json": {
       "model_id": "cd81a6b40bfb47f8abe61143db3e7e94",
       "version_major": 2,
       "version_minor": 0
      },
      "text/plain": [
       "Map:   0%|          | 0/668 [00:00<?, ? examples/s]"
      ]
     },
     "metadata": {},
     "output_type": "display_data"
    },
    {
     "name": "stderr",
     "output_type": "stream",
     "text": [
      "Truncation was not explicitly activated but `max_length` is provided a specific value, please use `truncation=True` to explicitly truncate examples to max length. Defaulting to 'longest_first' truncation strategy. If you encode pairs of sequences (GLUE-style) with the tokenizer you can select this strategy more precisely by providing a specific strategy to `truncation`.\n"
     ]
    },
    {
     "data": {
      "application/vnd.jupyter.widget-view+json": {
       "model_id": "d0cdb8aadff14cf89abd061cb7aacb84",
       "version_major": 2,
       "version_minor": 0
      },
      "text/plain": [
       "Map:   0%|          | 0/20 [00:00<?, ? examples/s]"
      ]
     },
     "metadata": {},
     "output_type": "display_data"
    }
   ],
   "source": [
    "def preprocess_text_classification(example):\n",
    "    encoded_example           = tokenizer(example[\"text\"], max_length=512)\n",
    "    encoded_example[\"target\"] = example[\"target\"]\n",
    "    return encoded_example\n",
    "\n",
    "dataset_tok = dataset.map(\n",
    "    preprocess_text_classification\n",
    ")"
   ]
  },
  {
   "cell_type": "code",
   "execution_count": 30,
   "metadata": {
    "execution": {
     "iopub.execute_input": "2024-05-02T18:17:32.119905Z",
     "iopub.status.busy": "2024-05-02T18:17:32.119520Z",
     "iopub.status.idle": "2024-05-02T18:17:32.127139Z",
     "shell.execute_reply": "2024-05-02T18:17:32.126106Z",
     "shell.execute_reply.started": "2024-05-02T18:17:32.119874Z"
    },
    "tags": []
   },
   "outputs": [
    {
     "name": "stdout",
     "output_type": "stream",
     "text": [
      "DatasetDict({\n",
      "    train: Dataset({\n",
      "        features: ['target', 'text', 'input_ids', 'token_type_ids', 'attention_mask'],\n",
      "        num_rows: 668\n",
      "    })\n",
      "    test: Dataset({\n",
      "        features: ['target', 'text', 'input_ids', 'token_type_ids', 'attention_mask'],\n",
      "        num_rows: 20\n",
      "    })\n",
      "})\n"
     ]
    }
   ],
   "source": [
    "print(dataset_tok)"
   ]
  },
  {
   "cell_type": "code",
   "execution_count": 31,
   "metadata": {
    "execution": {
     "iopub.execute_input": "2024-05-02T18:17:33.184456Z",
     "iopub.status.busy": "2024-05-02T18:17:33.183751Z",
     "iopub.status.idle": "2024-05-02T18:17:33.204804Z",
     "shell.execute_reply": "2024-05-02T18:17:33.203272Z",
     "shell.execute_reply.started": "2024-05-02T18:17:33.184402Z"
    },
    "tags": []
   },
   "outputs": [],
   "source": [
    "dataset_tok = dataset_tok.remove_columns([\"text\"])\n",
    "dataset_tok = dataset_tok.rename_column(\"target\", \"labels\")"
   ]
  },
  {
   "cell_type": "code",
   "execution_count": 32,
   "metadata": {
    "execution": {
     "iopub.execute_input": "2024-05-02T18:17:33.523448Z",
     "iopub.status.busy": "2024-05-02T18:17:33.522702Z",
     "iopub.status.idle": "2024-05-02T18:17:33.535680Z",
     "shell.execute_reply": "2024-05-02T18:17:33.533681Z",
     "shell.execute_reply.started": "2024-05-02T18:17:33.523392Z"
    },
    "tags": []
   },
   "outputs": [],
   "source": [
    "dataset_tok.set_format(\"torch\")"
   ]
  },
  {
   "cell_type": "code",
   "execution_count": 33,
   "metadata": {
    "execution": {
     "iopub.execute_input": "2024-05-02T18:17:33.740168Z",
     "iopub.status.busy": "2024-05-02T18:17:33.739433Z",
     "iopub.status.idle": "2024-05-02T18:17:33.947226Z",
     "shell.execute_reply": "2024-05-02T18:17:33.945268Z",
     "shell.execute_reply.started": "2024-05-02T18:17:33.740106Z"
    },
    "tags": []
   },
   "outputs": [],
   "source": [
    "train = dataset_tok[\"train\"].shuffle(seed=42)\n",
    "test = dataset_tok[\"test\"].shuffle(seed=42)"
   ]
  },
  {
   "cell_type": "code",
   "execution_count": 34,
   "metadata": {
    "execution": {
     "iopub.execute_input": "2024-05-02T18:17:33.950845Z",
     "iopub.status.busy": "2024-05-02T18:17:33.950250Z",
     "iopub.status.idle": "2024-05-02T18:17:33.967600Z",
     "shell.execute_reply": "2024-05-02T18:17:33.965776Z",
     "shell.execute_reply.started": "2024-05-02T18:17:33.950791Z"
    },
    "tags": []
   },
   "outputs": [],
   "source": [
    "from torch.utils.data import DataLoader\n",
    "\n",
    "train_dataloader = DataLoader(train, shuffle=True)\n",
    "eval_dataloader = DataLoader(test)"
   ]
  },
  {
   "cell_type": "code",
   "execution_count": 35,
   "metadata": {
    "execution": {
     "iopub.execute_input": "2024-05-02T18:17:34.214069Z",
     "iopub.status.busy": "2024-05-02T18:17:34.213388Z",
     "iopub.status.idle": "2024-05-02T18:17:34.225426Z",
     "shell.execute_reply": "2024-05-02T18:17:34.222795Z",
     "shell.execute_reply.started": "2024-05-02T18:17:34.214012Z"
    },
    "tags": []
   },
   "outputs": [],
   "source": [
    "id2label = {0: \"NEGATIVE\", \n",
    "            1: \"POSITIVE\"}\n",
    "label2id = {\"NEGATIVE\": 0, \"POSITIVE\": 1}"
   ]
  },
  {
   "cell_type": "code",
   "execution_count": 44,
   "metadata": {
    "execution": {
     "iopub.execute_input": "2024-05-02T18:21:07.217228Z",
     "iopub.status.busy": "2024-05-02T18:21:07.216412Z",
     "iopub.status.idle": "2024-05-02T18:21:07.233823Z",
     "shell.execute_reply": "2024-05-02T18:21:07.232218Z",
     "shell.execute_reply.started": "2024-05-02T18:21:07.217171Z"
    },
    "tags": []
   },
   "outputs": [
    {
     "name": "stdout",
     "output_type": "stream",
     "text": [
      "{'middle_east': 0, 'latino': 1, 'chinese': 2, 'muslim': 3, 'bisexual': 4, 'mexican': 5, 'lgbtq': 6, 'physical_disability': 7, 'mental_disability': 8, 'asian': 9, 'women': 10, 'jewish': 11, 'immigrant': 12, 'native_american': 13, 'black': 14}\n",
      "{0: 'middle_east', 1: 'latino', 2: 'chinese', 3: 'muslim', 4: 'bisexual', 5: 'mexican', 6: 'lgbtq', 7: 'physical_disability', 8: 'mental_disability', 9: 'asian', 10: 'women', 11: 'jewish', 12: 'immigrant', 13: 'native_american', 14: 'black'}\n"
     ]
    }
   ],
   "source": [
    "id2label = {i: data.target.unique()[i] for i in range(len(data.target.unique()))}\n",
    "# label2id = {data.target.unique()[i]: i for i in range(len(data.target.unique()))}\n",
    "label2id = {'middle_east': 0,'latino': 1,'chinese': 2,'muslim': 3,'bisexual': 4,'mexican': 5,'lgbtq': 6,'physical_disability': 7,'mental_disability': 8,'asian': 9,'women': 10,'jewish': 11,'immigrant': 12,'native_american': 13,'black': 14}\n",
    "id2label = {k:v for (k,v) in enumerate(label2id)}\n",
    "\n",
    "print(label2id)\n",
    "print(id2label)\n"
   ]
  },
  {
   "cell_type": "code",
   "execution_count": 45,
   "metadata": {
    "execution": {
     "iopub.execute_input": "2024-05-02T18:21:09.259348Z",
     "iopub.status.busy": "2024-05-02T18:21:09.258504Z",
     "iopub.status.idle": "2024-05-02T18:21:09.869253Z",
     "shell.execute_reply": "2024-05-02T18:21:09.867556Z",
     "shell.execute_reply.started": "2024-05-02T18:21:09.259140Z"
    },
    "tags": []
   },
   "outputs": [
    {
     "name": "stderr",
     "output_type": "stream",
     "text": [
      "Some weights of BertForSequenceClassification were not initialized from the model checkpoint at google/bert_uncased_L-4_H-128_A-2 and are newly initialized: ['classifier.bias', 'classifier.weight']\n",
      "You should probably TRAIN this model on a down-stream task to be able to use it for predictions and inference.\n"
     ]
    }
   ],
   "source": [
    "from transformers import AutoModelForSequenceClassification\n",
    "# BERT-tiny license\n",
    "\n",
    "# Copyright 2018 The Google AI Language Team Authors.\n",
    "#\n",
    "# Licensed under the Apache License, Version 2.0 (the \"License\");\n",
    "# you may not use this file except in compliance with the License.\n",
    "# You may obtain a copy of the License at\n",
    "#\n",
    "#     http://www.apache.org/licenses/LICENSE-2.0\n",
    "#\n",
    "# Unless required by applicable law or agreed to in writing, software\n",
    "# distributed under the License is distributed on an \"AS IS\" BASIS,\n",
    "# WITHOUT WARRANTIES OR CONDITIONS OF ANY KIND, either express or implied.\n",
    "# See the License for the specific language governing permissions and\n",
    "# limitations under the License.\n",
    "\n",
    "\n",
    "model_bert_l4 = AutoModelForSequenceClassification.from_pretrained(\n",
    "    \"google/bert_uncased_L-4_H-128_A-2\", num_labels=len(data.target.unique()), id2label=id2label, label2id=label2id)"
   ]
  },
  {
   "cell_type": "code",
   "execution_count": 46,
   "metadata": {
    "execution": {
     "iopub.execute_input": "2024-05-02T18:21:13.563818Z",
     "iopub.status.busy": "2024-05-02T18:21:13.561929Z",
     "iopub.status.idle": "2024-05-02T18:21:13.574266Z",
     "shell.execute_reply": "2024-05-02T18:21:13.572760Z",
     "shell.execute_reply.started": "2024-05-02T18:21:13.563757Z"
    },
    "tags": []
   },
   "outputs": [
    {
     "name": "stdout",
     "output_type": "stream",
     "text": [
      "bert-tiny variant number of parameters:  4784399\n"
     ]
    }
   ],
   "source": [
    "print(\"bert-tiny variant number of parameters: \", model_bert_l4.num_parameters())"
   ]
  },
  {
   "cell_type": "code",
   "execution_count": 47,
   "metadata": {
    "execution": {
     "iopub.execute_input": "2024-05-02T18:21:15.656920Z",
     "iopub.status.busy": "2024-05-02T18:21:15.656113Z",
     "iopub.status.idle": "2024-05-02T18:21:15.668218Z",
     "shell.execute_reply": "2024-05-02T18:21:15.665755Z",
     "shell.execute_reply.started": "2024-05-02T18:21:15.656831Z"
    },
    "tags": []
   },
   "outputs": [],
   "source": [
    "from torch.optim import AdamW\n",
    "\n",
    "optimizer = AdamW(model_bert_l4.parameters(), lr=5e-5)"
   ]
  },
  {
   "cell_type": "code",
   "execution_count": 48,
   "metadata": {
    "execution": {
     "iopub.execute_input": "2024-05-02T18:21:18.087024Z",
     "iopub.status.busy": "2024-05-02T18:21:18.086285Z",
     "iopub.status.idle": "2024-05-02T18:21:18.100455Z",
     "shell.execute_reply": "2024-05-02T18:21:18.098556Z",
     "shell.execute_reply.started": "2024-05-02T18:21:18.086963Z"
    },
    "tags": []
   },
   "outputs": [],
   "source": [
    "from transformers import get_scheduler\n",
    "\n",
    "num_epochs = 2\n",
    "num_training_steps = num_epochs * len(train_dataloader)\n",
    "# feel free to experiment with different num_warmup_steps\n",
    "lr_scheduler = get_scheduler(\n",
    "    name=\"linear\", optimizer=optimizer, num_warmup_steps=1, num_training_steps=num_training_steps\n",
    ")"
   ]
  },
  {
   "cell_type": "code",
   "execution_count": 49,
   "metadata": {
    "execution": {
     "iopub.execute_input": "2024-05-02T18:21:18.244185Z",
     "iopub.status.busy": "2024-05-02T18:21:18.243386Z",
     "iopub.status.idle": "2024-05-02T18:21:18.505439Z",
     "shell.execute_reply": "2024-05-02T18:21:18.502827Z",
     "shell.execute_reply.started": "2024-05-02T18:21:18.244126Z"
    },
    "tags": []
   },
   "outputs": [
    {
     "data": {
      "text/plain": [
       "BertForSequenceClassification(\n",
       "  (bert): BertModel(\n",
       "    (embeddings): BertEmbeddings(\n",
       "      (word_embeddings): Embedding(30522, 128, padding_idx=0)\n",
       "      (position_embeddings): Embedding(512, 128)\n",
       "      (token_type_embeddings): Embedding(2, 128)\n",
       "      (LayerNorm): LayerNorm((128,), eps=1e-12, elementwise_affine=True)\n",
       "      (dropout): Dropout(p=0.1, inplace=False)\n",
       "    )\n",
       "    (encoder): BertEncoder(\n",
       "      (layer): ModuleList(\n",
       "        (0-3): 4 x BertLayer(\n",
       "          (attention): BertAttention(\n",
       "            (self): BertSelfAttention(\n",
       "              (query): Linear(in_features=128, out_features=128, bias=True)\n",
       "              (key): Linear(in_features=128, out_features=128, bias=True)\n",
       "              (value): Linear(in_features=128, out_features=128, bias=True)\n",
       "              (dropout): Dropout(p=0.1, inplace=False)\n",
       "            )\n",
       "            (output): BertSelfOutput(\n",
       "              (dense): Linear(in_features=128, out_features=128, bias=True)\n",
       "              (LayerNorm): LayerNorm((128,), eps=1e-12, elementwise_affine=True)\n",
       "              (dropout): Dropout(p=0.1, inplace=False)\n",
       "            )\n",
       "          )\n",
       "          (intermediate): BertIntermediate(\n",
       "            (dense): Linear(in_features=128, out_features=512, bias=True)\n",
       "            (intermediate_act_fn): GELUActivation()\n",
       "          )\n",
       "          (output): BertOutput(\n",
       "            (dense): Linear(in_features=512, out_features=128, bias=True)\n",
       "            (LayerNorm): LayerNorm((128,), eps=1e-12, elementwise_affine=True)\n",
       "            (dropout): Dropout(p=0.1, inplace=False)\n",
       "          )\n",
       "        )\n",
       "      )\n",
       "    )\n",
       "    (pooler): BertPooler(\n",
       "      (dense): Linear(in_features=128, out_features=128, bias=True)\n",
       "      (activation): Tanh()\n",
       "    )\n",
       "  )\n",
       "  (dropout): Dropout(p=0.1, inplace=False)\n",
       "  (classifier): Linear(in_features=128, out_features=15, bias=True)\n",
       ")"
      ]
     },
     "execution_count": 49,
     "metadata": {},
     "output_type": "execute_result"
    }
   ],
   "source": [
    "Gustave Besacierimport torch\n",
    "\n",
    "device = torch.device(\"cuda\") if torch.cuda.is_available() else torch.device(\"cpu\")\n",
    "model_bert_l4.to(device)"
   ]
  },
  {
   "cell_type": "code",
   "execution_count": 50,
   "metadata": {
    "execution": {
     "iopub.execute_input": "2024-05-02T18:21:19.669220Z",
     "iopub.status.busy": "2024-05-02T18:21:19.668477Z",
     "iopub.status.idle": "2024-05-02T18:21:20.220217Z",
     "shell.execute_reply": "2024-05-02T18:21:20.217858Z",
     "shell.execute_reply.started": "2024-05-02T18:21:19.669165Z"
    },
    "tags": []
   },
   "outputs": [
    {
     "name": "stdout",
     "output_type": "stream",
     "text": [
      "<torch.utils.data.dataloader.DataLoader object at 0x7fbf247bca10>\n",
      "('labels', tensor([6]))\n",
      "('input_ids', tensor([[  101,  4190, 25090,  4328,  6774,  1996, 19483,  9580,  2097,  2599,\n",
      "         21268,  2000,  2019,  3623,  1999,  4126,   102]]))\n",
      "('token_type_ids', tensor([[0, 0, 0, 0, 0, 0, 0, 0, 0, 0, 0, 0, 0, 0, 0, 0, 0]]))\n",
      "('attention_mask', tensor([[1, 1, 1, 1, 1, 1, 1, 1, 1, 1, 1, 1, 1, 1, 1, 1, 1]]))\n"
     ]
    }
   ],
   "source": [
    "print(train_dataloader)\n",
    "for i in train_dataloader:\n",
    "    a, b, c, d = i.items()\n",
    "print(a)\n",
    "print(b)\n",
    "print(c)\n",
    "print(d)"
   ]
  },
  {
   "cell_type": "code",
   "execution_count": 51,
   "metadata": {
    "execution": {
     "iopub.execute_input": "2024-05-02T18:21:25.296988Z",
     "iopub.status.busy": "2024-05-02T18:21:25.296264Z",
     "iopub.status.idle": "2024-05-02T18:21:25.805566Z",
     "shell.execute_reply": "2024-05-02T18:21:25.804420Z",
     "shell.execute_reply.started": "2024-05-02T18:21:25.296928Z"
    },
    "tags": []
   },
   "outputs": [
    {
     "data": {
      "text/plain": [
       "{'labels': tensor([12]),\n",
       " 'input_ids': tensor([[  101,  1996,  1043, 22571, 14625,  1010,  2572,  1045,  2157,  1029,\n",
       "           2122,  4365,  3097,  2308,  2272,  2074,  2000,  8954,  2256, 19089,\n",
       "           2005,  2037,  2769,   102]]),\n",
       " 'token_type_ids': tensor([[0, 0, 0, 0, 0, 0, 0, 0, 0, 0, 0, 0, 0, 0, 0, 0, 0, 0, 0, 0, 0, 0, 0, 0]]),\n",
       " 'attention_mask': tensor([[1, 1, 1, 1, 1, 1, 1, 1, 1, 1, 1, 1, 1, 1, 1, 1, 1, 1, 1, 1, 1, 1, 1, 1]])}"
      ]
     },
     "execution_count": 51,
     "metadata": {},
     "output_type": "execute_result"
    }
   ],
   "source": [
    "for batch in train_dataloader:\n",
    "        batch = {k: v.to(device) for k, v in batch.items()}\n",
    "batch"
   ]
  },
  {
   "cell_type": "code",
   "execution_count": 52,
   "metadata": {
    "execution": {
     "iopub.execute_input": "2024-05-02T18:21:31.880938Z",
     "iopub.status.busy": "2024-05-02T18:21:31.880176Z",
     "iopub.status.idle": "2024-05-02T18:37:36.079740Z",
     "shell.execute_reply": "2024-05-02T18:37:36.076697Z",
     "shell.execute_reply.started": "2024-05-02T18:21:31.880839Z"
    },
    "tags": []
   },
   "outputs": [
    {
     "data": {
      "application/vnd.jupyter.widget-view+json": {
       "model_id": "05a80987362d4d9cb70c67e43aede0b7",
       "version_major": 2,
       "version_minor": 0
      },
      "text/plain": [
       "  0%|          | 0/1336 [00:00<?, ?it/s]"
      ]
     },
     "metadata": {},
     "output_type": "display_data"
    }
   ],
   "source": [
    "# use the tqdm library to add a progress bar over the number of training steps\n",
    "from tqdm.auto import tqdm\n",
    "\n",
    "progress_bar = tqdm(range(num_training_steps))\n",
    "\n",
    "# put the model in train mode\n",
    "model_bert_l4.train()\n",
    "\n",
    "# iterate over epochs\n",
    "for epoch in range(num_epochs):\n",
    "    # iterate over batches in training set\n",
    "    for batch in train_dataloader:\n",
    "        batch = {k: v.to(device) for k, v in batch.items()}\n",
    "\n",
    "        outputs = model_bert_l4(**batch)\n",
    "        \n",
    "        loss = outputs.loss\n",
    "\n",
    "        loss.backward()\n",
    "\n",
    "        optimizer.step()\n",
    "        \n",
    "        lr_scheduler.step()\n",
    "\n",
    "        optimizer.zero_grad()\n",
    "\n",
    "        progress_bar.update(1)"
   ]
  },
  {
   "cell_type": "code",
   "execution_count": 63,
   "metadata": {
    "execution": {
     "iopub.execute_input": "2024-05-02T18:39:58.737921Z",
     "iopub.status.busy": "2024-05-02T18:39:58.737256Z",
     "iopub.status.idle": "2024-05-02T18:39:58.746329Z",
     "shell.execute_reply": "2024-05-02T18:39:58.744231Z",
     "shell.execute_reply.started": "2024-05-02T18:39:58.737875Z"
    },
    "tags": []
   },
   "outputs": [],
   "source": [
    "text_asian = \"Go back to your country\"\n",
    "text_femal = \"You are a female\"\n",
    "text_pos_neg = [text_asian, text_femal]"
   ]
  },
  {
   "cell_type": "code",
   "execution_count": 64,
   "metadata": {
    "execution": {
     "iopub.execute_input": "2024-05-02T18:39:59.061064Z",
     "iopub.status.busy": "2024-05-02T18:39:59.060435Z",
     "iopub.status.idle": "2024-05-02T18:39:59.479893Z",
     "shell.execute_reply": "2024-05-02T18:39:59.477645Z",
     "shell.execute_reply.started": "2024-05-02T18:39:59.061008Z"
    },
    "tags": []
   },
   "outputs": [
    {
     "name": "stdout",
     "output_type": "stream",
     "text": [
      "predicted_class_id:  12\n",
      "immigrant\n",
      "predicted_class_id:  6\n",
      "lgbtq\n"
     ]
    }
   ],
   "source": [
    "\n",
    "inputs = tokenizer(text_asian, return_tensors=\"pt\",  padding = True, truncation = True)\n",
    "\n",
    "inputs = inputs.to(device)\n",
    "\n",
    "with torch.no_grad():\n",
    "    \n",
    "    outputs = model_bert_l4(**inputs)\n",
    "\n",
    "    logits = outputs.logits\n",
    "\n",
    "\n",
    "\n",
    "predicted_class_id = logits.argmax().item()\n",
    "print(\"predicted_class_id: \", predicted_class_id)\n",
    "\n",
    "\n",
    "print(model_bert_l4.config.id2label[predicted_class_id])\n",
    "\n",
    "inputs = tokenizer(text_femal, return_tensors=\"pt\",  padding = True, truncation = True)\n",
    "\n",
    "\n",
    "with torch.no_grad():\n",
    "    logits = model_bert_l4(**inputs.to(device)).logits\n",
    "\n",
    "predicted_class_id = logits.argmax().item()\n",
    "print(\"predicted_class_id: \", predicted_class_id)\n",
    "\n",
    "print(model_bert_l4.config.id2label[predicted_class_id])"
   ]
  },
  {
   "cell_type": "code",
   "execution_count": 80,
   "metadata": {
    "execution": {
     "iopub.execute_input": "2024-05-02T18:46:51.993014Z",
     "iopub.status.busy": "2024-05-02T18:46:51.992281Z",
     "iopub.status.idle": "2024-05-02T18:47:02.470890Z",
     "shell.execute_reply": "2024-05-02T18:47:02.468690Z",
     "shell.execute_reply.started": "2024-05-02T18:46:51.992959Z"
    },
    "tags": []
   },
   "outputs": [
    {
     "name": "stdin",
     "output_type": "stream",
     "text": [
      "Prompt:  Gay people are often blamed\n"
     ]
    },
    {
     "name": "stdout",
     "output_type": "stream",
     "text": [
      "predicted_class_id:  6\n",
      "target category lgbtq\n"
     ]
    }
   ],
   "source": [
    "prompt = input(\"Prompt: \")\n",
    "inputs = tokenizer(prompt, return_tensors=\"pt\",  padding = True, truncation = True)\n",
    "\n",
    "inputs = inputs.to(device)\n",
    "\n",
    "with torch.no_grad():\n",
    "    \n",
    "    outputs = model_bert_l4(**inputs)\n",
    "\n",
    "    logits = outputs.logits\n",
    "\n",
    "\n",
    "predicted_class_id = logits.argmax().item()\n",
    "\n",
    "print(\"predicted_class_id: \", predicted_class_id)\n",
    "print(\"target category\", model_bert_l4.config.id2label[predicted_class_id])"
   ]
  },
  {
   "cell_type": "code",
   "execution_count": null,
   "metadata": {},
   "outputs": [],
   "source": []
  }
 ],
 "metadata": {
  "kernelspec": {
   "display_name": "base",
   "language": "python",
   "name": "deep_learning"
  },
  "language_info": {
   "codemirror_mode": {
    "name": "ipython",
    "version": 3
   },
   "file_extension": ".py",
   "mimetype": "text/x-python",
   "name": "python",
   "nbconvert_exporter": "python",
   "pygments_lexer": "ipython3",
   "version": "3.11.5"
  }
 },
 "nbformat": 4,
 "nbformat_minor": 4
}
